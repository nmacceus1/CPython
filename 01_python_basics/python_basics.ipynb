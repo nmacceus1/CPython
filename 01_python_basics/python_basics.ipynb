{
 "cells": [
  {
   "cell_type": "code",
   "execution_count": null,
   "id": "ddb1779d",
   "metadata": {},
   "outputs": [],
   "source": [
    "# This is a single-line comment\n",
    "\n",
    "\n",
    "\"\"\"\n",
    "08/20/2025\n",
    "Introduction to pYTHON\n",
    "\"\"\"\n",
    "\n",
    "print(\"Comments are not executed\")"
   ]
  },
  {
   "cell_type": "code",
   "execution_count": 1,
   "id": "e6118454",
   "metadata": {},
   "outputs": [
    {
     "name": "stdout",
     "output_type": "stream",
     "text": [
      "Jack 25 5.6\n"
     ]
    }
   ],
   "source": [
    "#Variables\n",
    "\n",
    "name = \"Jack\"\n",
    "age = 25\n",
    "height = 5.6\n",
    "\n",
    "print(name,age,height)"
   ]
  },
  {
   "cell_type": "code",
   "execution_count": 2,
   "id": "349e29c8",
   "metadata": {},
   "outputs": [
    {
     "name": "stdout",
     "output_type": "stream",
     "text": [
      "Name:Nia, Age: 30, Height: 5.6\n"
     ]
    }
   ],
   "source": [
    "#Declaring Variables with Type Annotations\n",
    "name: str = \"Nia\"\n",
    "age: int = 30\n",
    "height: float = 5.6\n",
    "\n",
    "print(f\"Name:{name}, Age: {age}, Height: {height}\")"
   ]
  },
  {
   "cell_type": "code",
   "execution_count": 5,
   "id": "e31fde2b",
   "metadata": {},
   "outputs": [
    {
     "name": "stdout",
     "output_type": "stream",
     "text": [
      "1.8\n",
      "1\n",
      "59049\n",
      "4\n"
     ]
    }
   ],
   "source": [
    "#Arirhmetic\n",
    "\n",
    "a=5\n",
    "b=9\n",
    "print(b/a)\n",
    "print(b//a) #integer division\n",
    "print(b**a) #exponent\n",
    "print(b % a) #the remainder"
   ]
  }
 ],
 "metadata": {
  "kernelspec": {
   "display_name": "Python 3",
   "language": "python",
   "name": "python3"
  },
  "language_info": {
   "codemirror_mode": {
    "name": "ipython",
    "version": 3
   },
   "file_extension": ".py",
   "mimetype": "text/x-python",
   "name": "python",
   "nbconvert_exporter": "python",
   "pygments_lexer": "ipython3",
   "version": "3.12.1"
  }
 },
 "nbformat": 4,
 "nbformat_minor": 5
}
